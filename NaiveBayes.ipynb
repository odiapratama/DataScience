{
 "cells": [
  {
   "cell_type": "markdown",
   "metadata": {},
   "source": [
    "# Naive Bayes (the easy way)"
   ]
  },
  {
   "cell_type": "markdown",
   "metadata": {},
   "source": [
    "We'll cheat by using sklearn.naive_bayes to train a spam classifier! Most of the code is just loading our training data into a pandas DataFrame that we can play with:"
   ]
  },
  {
   "cell_type": "code",
   "execution_count": 1,
   "metadata": {},
   "outputs": [],
   "source": [
    "import os\n",
    "import io\n",
    "import numpy\n",
    "from pandas import DataFrame\n",
    "from sklearn.feature_extraction.text import CountVectorizer\n",
    "from sklearn.naive_bayes import MultinomialNB\n",
    "\n",
    "def readFiles(path):\n",
    "    for root, dirnames, filenames in os.walk(path):\n",
    "        for filename in filenames:\n",
    "            path = os.path.join(root, filename)\n",
    "\n",
    "            inBody = False\n",
    "            lines = []\n",
    "            f = io.open(path, 'r', encoding='latin1')\n",
    "            for line in f:\n",
    "                if inBody:\n",
    "                    lines.append(line)\n",
    "                elif line == '\\n':\n",
    "                    inBody = True\n",
    "            f.close()\n",
    "            message = '\\n'.join(lines)\n",
    "            yield path, message\n",
    "\n",
    "\n",
    "def dataFrameFromDirectory(path, classification):\n",
    "    rows = []\n",
    "    index = []\n",
    "    for filename, message in readFiles(path):\n",
    "        rows.append({'message': message, 'class': classification})\n",
    "        index.append(filename)\n",
    "\n",
    "    return DataFrame(rows, index=index)\n",
    "\n",
    "data = DataFrame({'message': [], 'class': []})\n",
    "\n",
    "data = data.append(dataFrameFromDirectory('e:/sundog-consult/Udemy/DataScience/emails/spam', 'spam'))\n",
    "data = data.append(dataFrameFromDirectory('e:/sundog-consult/Udemy/DataScience/emails/ham', 'ham'))\n"
   ]
  },
  {
   "cell_type": "markdown",
   "metadata": {},
   "source": [
    "Let's have a look at that DataFrame:"
   ]
  },
  {
   "cell_type": "code",
   "execution_count": 2,
   "metadata": {},
   "outputs": [
    {
     "data": {
      "text/html": [
       "<div>\n",
       "<table border=\"1\" class=\"dataframe\">\n",
       "  <thead>\n",
       "    <tr style=\"text-align: right;\">\n",
       "      <th></th>\n",
       "      <th>class</th>\n",
       "      <th>message</th>\n",
       "    </tr>\n",
       "  </thead>\n",
       "  <tbody>\n",
       "    <tr>\n",
       "      <th>e:/sundog-consult/Udemy/DataScience/emails/spam\\00001.7848dde101aa985090474a91ec93fcf0</th>\n",
       "      <td>spam</td>\n",
       "      <td>&lt;!DOCTYPE HTML PUBLIC \"-//W3C//DTD HTML 4.0 Tr...</td>\n",
       "    </tr>\n",
       "    <tr>\n",
       "      <th>e:/sundog-consult/Udemy/DataScience/emails/spam\\00002.d94f1b97e48ed3b553b3508d116e6a09</th>\n",
       "      <td>spam</td>\n",
       "      <td>1) Fight The Risk of Cancer!\\n\\nhttp://www.adc...</td>\n",
       "    </tr>\n",
       "    <tr>\n",
       "      <th>e:/sundog-consult/Udemy/DataScience/emails/spam\\00003.2ee33bc6eacdb11f38d052c44819ba6c</th>\n",
       "      <td>spam</td>\n",
       "      <td>1) Fight The Risk of Cancer!\\n\\nhttp://www.adc...</td>\n",
       "    </tr>\n",
       "    <tr>\n",
       "      <th>e:/sundog-consult/Udemy/DataScience/emails/spam\\00004.eac8de8d759b7e74154f142194282724</th>\n",
       "      <td>spam</td>\n",
       "      <td>##############################################...</td>\n",
       "    </tr>\n",
       "    <tr>\n",
       "      <th>e:/sundog-consult/Udemy/DataScience/emails/spam\\00005.57696a39d7d84318ce497886896bf90d</th>\n",
       "      <td>spam</td>\n",
       "      <td>I thought you might like these:\\n\\n1) Slim Dow...</td>\n",
       "    </tr>\n",
       "  </tbody>\n",
       "</table>\n",
       "</div>"
      ],
      "text/plain": [
       "                                                   class  \\\n",
       "e:/sundog-consult/Udemy/DataScience/emails/spam...  spam   \n",
       "e:/sundog-consult/Udemy/DataScience/emails/spam...  spam   \n",
       "e:/sundog-consult/Udemy/DataScience/emails/spam...  spam   \n",
       "e:/sundog-consult/Udemy/DataScience/emails/spam...  spam   \n",
       "e:/sundog-consult/Udemy/DataScience/emails/spam...  spam   \n",
       "\n",
       "                                                                                              message  \n",
       "e:/sundog-consult/Udemy/DataScience/emails/spam...  <!DOCTYPE HTML PUBLIC \"-//W3C//DTD HTML 4.0 Tr...  \n",
       "e:/sundog-consult/Udemy/DataScience/emails/spam...  1) Fight The Risk of Cancer!\\n\\nhttp://www.adc...  \n",
       "e:/sundog-consult/Udemy/DataScience/emails/spam...  1) Fight The Risk of Cancer!\\n\\nhttp://www.adc...  \n",
       "e:/sundog-consult/Udemy/DataScience/emails/spam...  ##############################################...  \n",
       "e:/sundog-consult/Udemy/DataScience/emails/spam...  I thought you might like these:\\n\\n1) Slim Dow...  "
      ]
     },
     "execution_count": 2,
     "metadata": {},
     "output_type": "execute_result"
    }
   ],
   "source": [
    "data.head()"
   ]
  },
  {
   "cell_type": "markdown",
   "metadata": {},
   "source": [
    "Now we will use a CountVectorizer to split up each message into its list of words, and throw that into a MultinomialNB classifier. Call fit() and we've got a trained spam filter ready to go! It's just that easy."
   ]
  },
  {
   "cell_type": "code",
   "execution_count": 3,
   "metadata": {},
   "outputs": [
    {
     "data": {
      "text/plain": [
       "MultinomialNB(alpha=1.0, class_prior=None, fit_prior=True)"
      ]
     },
     "execution_count": 3,
     "metadata": {},
     "output_type": "execute_result"
    }
   ],
   "source": [
    "vectorizer = CountVectorizer()\n",
    "counts = vectorizer.fit_transform(data['message'].values)\n",
    "\n",
    "classifier = MultinomialNB()\n",
    "targets = data['class'].values\n",
    "classifier.fit(counts, targets)"
   ]
  },
  {
   "cell_type": "markdown",
   "metadata": {},
   "source": [
    "Let's try it out:"
   ]
  },
  {
   "cell_type": "code",
   "execution_count": 4,
   "metadata": {},
   "outputs": [
    {
     "data": {
      "text/plain": [
       "array(['spam', 'ham'], \n",
       "      dtype='<U4')"
      ]
     },
     "execution_count": 4,
     "metadata": {},
     "output_type": "execute_result"
    }
   ],
   "source": [
    "examples = ['Free Viagra now!!!', \"Hi Bob, how about a game of golf tomorrow?\"]\n",
    "example_counts = vectorizer.transform(examples)\n",
    "predictions = classifier.predict(example_counts)\n",
    "predictions"
   ]
  },
  {
   "cell_type": "markdown",
   "metadata": {},
   "source": [
    "## Activity"
   ]
  },
  {
   "cell_type": "markdown",
   "metadata": {},
   "source": [
    "Our data set is small, so our spam classifier isn't actually very good. Try running some different test emails through it and see if you get the results you expect.\n",
    "\n",
    "If you really want to challenge yourself, try applying train/test to this spam classifier - see how well it can predict some subset of the ham and spam emails."
   ]
  },
  {
   "cell_type": "code",
   "execution_count": 6,
   "metadata": {},
   "outputs": [],
   "source": [
    "import os\n",
    "import io\n",
    "import numpy\n",
    "from pandas import DataFrame\n",
    "from sklearn.feature_extraction.text import CountVectorizer\n",
    "from sklearn.naive_bayes import MultinomialNB\n",
    "\n",
    "def readFiles(path):\n",
    "    for root, dirnames, filenames in os.walk(path):\n",
    "        for filename in filenames:\n",
    "            path = os.path.join(root, filename)\n",
    "\n",
    "            inBody = False\n",
    "            lines = []\n",
    "            f = io.open(path, 'r', encoding='latin1')\n",
    "            for line in f:\n",
    "                if inBody:\n",
    "                    lines.append(line)\n",
    "                elif line == '\\n':\n",
    "                    inBody = True\n",
    "            f.close()\n",
    "            message = '\\n'.join(lines)\n",
    "            yield path, message\n",
    "\n",
    "\n",
    "def dataFrameFromDirectory(path, classification):\n",
    "    rows = []\n",
    "    index = []\n",
    "    for filename, message in readFiles(path):\n",
    "        rows.append({'message': message, 'class': classification})\n",
    "        index.append(filename)\n",
    "\n",
    "    return DataFrame(rows, index=index)\n",
    "\n",
    "data = DataFrame({'message': [], 'class': []})\n",
    "\n",
    "data = data.append(dataFrameFromDirectory('d:/7.DataScience/DataScience-Python3/emails/spam', 'spam'))\n",
    "data = data.append(dataFrameFromDirectory('d:/7.DataScience/DataScience-Python3/emails/ham', 'ham'))\n"
   ]
  },
  {
   "cell_type": "code",
   "execution_count": 8,
   "metadata": {},
   "outputs": [
    {
     "data": {
      "text/html": [
       "<div>\n",
       "<style>\n",
       "    .dataframe thead tr:only-child th {\n",
       "        text-align: right;\n",
       "    }\n",
       "\n",
       "    .dataframe thead th {\n",
       "        text-align: left;\n",
       "    }\n",
       "\n",
       "    .dataframe tbody tr th {\n",
       "        vertical-align: top;\n",
       "    }\n",
       "</style>\n",
       "<table border=\"1\" class=\"dataframe\">\n",
       "  <thead>\n",
       "    <tr style=\"text-align: right;\">\n",
       "      <th></th>\n",
       "      <th>class</th>\n",
       "      <th>message</th>\n",
       "    </tr>\n",
       "  </thead>\n",
       "  <tbody>\n",
       "    <tr>\n",
       "      <th>d:/7.DataScience/DataScience-Python3/emails/spam\\00001.7848dde101aa985090474a91ec93fcf0</th>\n",
       "      <td>spam</td>\n",
       "      <td>&lt;!DOCTYPE HTML PUBLIC \"-//W3C//DTD HTML 4.0 Tr...</td>\n",
       "    </tr>\n",
       "    <tr>\n",
       "      <th>d:/7.DataScience/DataScience-Python3/emails/spam\\00002.d94f1b97e48ed3b553b3508d116e6a09</th>\n",
       "      <td>spam</td>\n",
       "      <td>1) Fight The Risk of Cancer!\\n\\nhttp://www.adc...</td>\n",
       "    </tr>\n",
       "    <tr>\n",
       "      <th>d:/7.DataScience/DataScience-Python3/emails/spam\\00003.2ee33bc6eacdb11f38d052c44819ba6c</th>\n",
       "      <td>spam</td>\n",
       "      <td>1) Fight The Risk of Cancer!\\n\\nhttp://www.adc...</td>\n",
       "    </tr>\n",
       "    <tr>\n",
       "      <th>d:/7.DataScience/DataScience-Python3/emails/spam\\00004.eac8de8d759b7e74154f142194282724</th>\n",
       "      <td>spam</td>\n",
       "      <td>##############################################...</td>\n",
       "    </tr>\n",
       "    <tr>\n",
       "      <th>d:/7.DataScience/DataScience-Python3/emails/spam\\00005.57696a39d7d84318ce497886896bf90d</th>\n",
       "      <td>spam</td>\n",
       "      <td>I thought you might like these:\\n\\n1) Slim Dow...</td>\n",
       "    </tr>\n",
       "  </tbody>\n",
       "</table>\n",
       "</div>"
      ],
      "text/plain": [
       "                                                   class  \\\n",
       "d:/7.DataScience/DataScience-Python3/emails/spa...  spam   \n",
       "d:/7.DataScience/DataScience-Python3/emails/spa...  spam   \n",
       "d:/7.DataScience/DataScience-Python3/emails/spa...  spam   \n",
       "d:/7.DataScience/DataScience-Python3/emails/spa...  spam   \n",
       "d:/7.DataScience/DataScience-Python3/emails/spa...  spam   \n",
       "\n",
       "                                                                                              message  \n",
       "d:/7.DataScience/DataScience-Python3/emails/spa...  <!DOCTYPE HTML PUBLIC \"-//W3C//DTD HTML 4.0 Tr...  \n",
       "d:/7.DataScience/DataScience-Python3/emails/spa...  1) Fight The Risk of Cancer!\\n\\nhttp://www.adc...  \n",
       "d:/7.DataScience/DataScience-Python3/emails/spa...  1) Fight The Risk of Cancer!\\n\\nhttp://www.adc...  \n",
       "d:/7.DataScience/DataScience-Python3/emails/spa...  ##############################################...  \n",
       "d:/7.DataScience/DataScience-Python3/emails/spa...  I thought you might like these:\\n\\n1) Slim Dow...  "
      ]
     },
     "execution_count": 8,
     "metadata": {},
     "output_type": "execute_result"
    }
   ],
   "source": [
    "data.head()"
   ]
  },
  {
   "cell_type": "code",
   "execution_count": 14,
   "metadata": {},
   "outputs": [
    {
     "name": "stdout",
     "output_type": "stream",
     "text": [
      "                                                   class  \\\n",
      "d:/7.DataScience/DataScience-Python3/emails/spa...  spam   \n",
      "d:/7.DataScience/DataScience-Python3/emails/spa...  spam   \n",
      "d:/7.DataScience/DataScience-Python3/emails/spa...  spam   \n",
      "d:/7.DataScience/DataScience-Python3/emails/spa...  spam   \n",
      "d:/7.DataScience/DataScience-Python3/emails/spa...  spam   \n",
      "d:/7.DataScience/DataScience-Python3/emails/spa...  spam   \n",
      "d:/7.DataScience/DataScience-Python3/emails/spa...  spam   \n",
      "d:/7.DataScience/DataScience-Python3/emails/spa...  spam   \n",
      "d:/7.DataScience/DataScience-Python3/emails/spa...  spam   \n",
      "d:/7.DataScience/DataScience-Python3/emails/spa...  spam   \n",
      "d:/7.DataScience/DataScience-Python3/emails/spa...  spam   \n",
      "d:/7.DataScience/DataScience-Python3/emails/spa...  spam   \n",
      "d:/7.DataScience/DataScience-Python3/emails/spa...  spam   \n",
      "d:/7.DataScience/DataScience-Python3/emails/spa...  spam   \n",
      "d:/7.DataScience/DataScience-Python3/emails/spa...  spam   \n",
      "d:/7.DataScience/DataScience-Python3/emails/spa...  spam   \n",
      "d:/7.DataScience/DataScience-Python3/emails/spa...  spam   \n",
      "d:/7.DataScience/DataScience-Python3/emails/spa...  spam   \n",
      "d:/7.DataScience/DataScience-Python3/emails/spa...  spam   \n",
      "d:/7.DataScience/DataScience-Python3/emails/spa...  spam   \n",
      "d:/7.DataScience/DataScience-Python3/emails/spa...  spam   \n",
      "d:/7.DataScience/DataScience-Python3/emails/spa...  spam   \n",
      "d:/7.DataScience/DataScience-Python3/emails/spa...  spam   \n",
      "d:/7.DataScience/DataScience-Python3/emails/spa...  spam   \n",
      "d:/7.DataScience/DataScience-Python3/emails/spa...  spam   \n",
      "d:/7.DataScience/DataScience-Python3/emails/spa...  spam   \n",
      "d:/7.DataScience/DataScience-Python3/emails/spa...  spam   \n",
      "d:/7.DataScience/DataScience-Python3/emails/spa...  spam   \n",
      "d:/7.DataScience/DataScience-Python3/emails/spa...  spam   \n",
      "d:/7.DataScience/DataScience-Python3/emails/spa...  spam   \n",
      "...                                                  ...   \n",
      "d:/7.DataScience/DataScience-Python3/emails/ham...   ham   \n",
      "d:/7.DataScience/DataScience-Python3/emails/ham...   ham   \n",
      "d:/7.DataScience/DataScience-Python3/emails/ham...   ham   \n",
      "d:/7.DataScience/DataScience-Python3/emails/ham...   ham   \n",
      "d:/7.DataScience/DataScience-Python3/emails/ham...   ham   \n",
      "d:/7.DataScience/DataScience-Python3/emails/ham...   ham   \n",
      "d:/7.DataScience/DataScience-Python3/emails/ham...   ham   \n",
      "d:/7.DataScience/DataScience-Python3/emails/ham...   ham   \n",
      "d:/7.DataScience/DataScience-Python3/emails/ham...   ham   \n",
      "d:/7.DataScience/DataScience-Python3/emails/ham...   ham   \n",
      "d:/7.DataScience/DataScience-Python3/emails/ham...   ham   \n",
      "d:/7.DataScience/DataScience-Python3/emails/ham...   ham   \n",
      "d:/7.DataScience/DataScience-Python3/emails/ham...   ham   \n",
      "d:/7.DataScience/DataScience-Python3/emails/ham...   ham   \n",
      "d:/7.DataScience/DataScience-Python3/emails/ham...   ham   \n",
      "d:/7.DataScience/DataScience-Python3/emails/ham...   ham   \n",
      "d:/7.DataScience/DataScience-Python3/emails/ham...   ham   \n",
      "d:/7.DataScience/DataScience-Python3/emails/ham...   ham   \n",
      "d:/7.DataScience/DataScience-Python3/emails/ham...   ham   \n",
      "d:/7.DataScience/DataScience-Python3/emails/ham...   ham   \n",
      "d:/7.DataScience/DataScience-Python3/emails/ham...   ham   \n",
      "d:/7.DataScience/DataScience-Python3/emails/ham...   ham   \n",
      "d:/7.DataScience/DataScience-Python3/emails/ham...   ham   \n",
      "d:/7.DataScience/DataScience-Python3/emails/ham...   ham   \n",
      "d:/7.DataScience/DataScience-Python3/emails/ham...   ham   \n",
      "d:/7.DataScience/DataScience-Python3/emails/ham...   ham   \n",
      "d:/7.DataScience/DataScience-Python3/emails/ham...   ham   \n",
      "d:/7.DataScience/DataScience-Python3/emails/ham...   ham   \n",
      "d:/7.DataScience/DataScience-Python3/emails/ham...   ham   \n",
      "d:/7.DataScience/DataScience-Python3/emails/ham...   ham   \n",
      "\n",
      "                                                                                              message  \n",
      "d:/7.DataScience/DataScience-Python3/emails/spa...  <!DOCTYPE HTML PUBLIC \"-//W3C//DTD HTML 4.0 Tr...  \n",
      "d:/7.DataScience/DataScience-Python3/emails/spa...  1) Fight The Risk of Cancer!\\n\\nhttp://www.adc...  \n",
      "d:/7.DataScience/DataScience-Python3/emails/spa...  1) Fight The Risk of Cancer!\\n\\nhttp://www.adc...  \n",
      "d:/7.DataScience/DataScience-Python3/emails/spa...  ##############################################...  \n",
      "d:/7.DataScience/DataScience-Python3/emails/spa...  I thought you might like these:\\n\\n1) Slim Dow...  \n",
      "d:/7.DataScience/DataScience-Python3/emails/spa...  A POWERHOUSE GIFTING PROGRAM You Don't Want To...  \n",
      "d:/7.DataScience/DataScience-Python3/emails/spa...  Help wanted.  We are a 14 year old fortune 500...  \n",
      "d:/7.DataScience/DataScience-Python3/emails/spa...  <html>\\n\\n<head>\\n\\n<title>ReliaQuote - Save U...  \n",
      "d:/7.DataScience/DataScience-Python3/emails/spa...  TIRED OF THE BULL OUT THERE?\\n\\nWant To Stop L...  \n",
      "d:/7.DataScience/DataScience-Python3/emails/spa...  Dear ricardo1 ,\\n\\n\\n\\n<html>\\n\\n<body>\\n\\n<ce...  \n",
      "d:/7.DataScience/DataScience-Python3/emails/spa...  Cellular Phone Accessories All At Below Wholes...  \n",
      "d:/7.DataScience/DataScience-Python3/emails/spa...  <table width=\"600\" border=\"20\" align=\"center\" ...  \n",
      "d:/7.DataScience/DataScience-Python3/emails/spa...  1) Fight The Risk of Cancer!\\n\\nhttp://www.adc...  \n",
      "d:/7.DataScience/DataScience-Python3/emails/spa...  <HTML><HEAD><TITLE>FREE Motorola Cell Phone wi...  \n",
      "d:/7.DataScience/DataScience-Python3/emails/spa...  <HTML><HEAD><TITLE>Lowest Rate Services</TITLE...  \n",
      "d:/7.DataScience/DataScience-Python3/emails/spa...  \\n\\n\\n\\nWant to watch Sporting Events?--Movies...  \n",
      "d:/7.DataScience/DataScience-Python3/emails/spa...  Help wanted.  We are a 14 year old fortune 500...  \n",
      "d:/7.DataScience/DataScience-Python3/emails/spa...  DEAR FRIEND,I AM MRS.  SESE-SEKO WIDOW OF LATE...  \n",
      "d:/7.DataScience/DataScience-Python3/emails/spa...  Lowest rates available for term life insurance...  \n",
      "d:/7.DataScience/DataScience-Python3/emails/spa...  1) Fight The Risk of Cancer!\\n\\nhttp://www.adc...  \n",
      "d:/7.DataScience/DataScience-Python3/emails/spa...  CENTRAL BANK OF NIGERIA\\n\\nFOREIGN REMITTANCE ...  \n",
      "d:/7.DataScience/DataScience-Python3/emails/spa...  --===_SecAtt_000_1fheucnqggtggp\\n\\nContent-Typ...  \n",
      "d:/7.DataScience/DataScience-Python3/emails/spa...  ------=_NextPart_000_00B2_83B03D1E.C6530E24\\n\\...  \n",
      "d:/7.DataScience/DataScience-Python3/emails/spa...  This is a multi-part message in MIME format.\\n...  \n",
      "d:/7.DataScience/DataScience-Python3/emails/spa...  <HTML><HEAD>\\n\\n<META http-equiv=3DContent-Typ...  \n",
      "d:/7.DataScience/DataScience-Python3/emails/spa...  DEAR FRIEND,I AM MRS.  SESE-SEKO WIDOW OF LATE...  \n",
      "d:/7.DataScience/DataScience-Python3/emails/spa...  1) Fight The Risk of Cancer!\\n\\nhttp://www.adc...  \n",
      "d:/7.DataScience/DataScience-Python3/emails/spa...  <HTML><HEAD><TITLE>MILFhunter</TITLE>\\n\\n<META...  \n",
      "d:/7.DataScience/DataScience-Python3/emails/spa...  <html>\\n\\n<head>\\n\\n</head>\\n\\n<body>\\n\\n\\n\\n<...  \n",
      "d:/7.DataScience/DataScience-Python3/emails/spa...  <html>\\n\\n\\n\\n<head>\\n\\n<meta http-equiv=3D\"Co...  \n",
      "...                                                                                               ...  \n",
      "d:/7.DataScience/DataScience-Python3/emails/ham...  This is possible, however using SA as a block ...  \n",
      "d:/7.DataScience/DataScience-Python3/emails/ham...  \\n\\n--- Martin Adamson <martin@srv0.ems.ed.ac....  \n",
      "d:/7.DataScience/DataScience-Python3/emails/ham...  ----- Original Message -----\\n\\nFrom: \"Tim Cha...  \n",
      "d:/7.DataScience/DataScience-Python3/emails/ham...  \\n\\n> Mr Tim Chapman, freelance gentleman of l...  \n",
      "d:/7.DataScience/DataScience-Python3/emails/ham...  Smith, Graham - Computing Technician wrote:\\n\\...  \n",
      "d:/7.DataScience/DataScience-Python3/emails/ham...  Geege wrote a strange story:\\n\\n>I know a guy ...  \n",
      "d:/7.DataScience/DataScience-Python3/emails/ham...  \\n\\n[Paul Moore]\\n\\n>    but let's walk before...  \n",
      "d:/7.DataScience/DataScience-Python3/emails/ham...  On Mon, Nov 25, 2002 at 06:54:49PM +0000, Phil...  \n",
      "d:/7.DataScience/DataScience-Python3/emails/ham...  \\n\\nI don't know how one can expect better and...  \n",
      "d:/7.DataScience/DataScience-Python3/emails/ham...  No, you need to learn how declarations work in...  \n",
      "d:/7.DataScience/DataScience-Python3/emails/ham...  \\n\\n    Richie> As I understand it, post-1.8x ...  \n",
      "d:/7.DataScience/DataScience-Python3/emails/ham...  \\n\\n    Paul> I suspect the best answer is to ...  \n",
      "d:/7.DataScience/DataScience-Python3/emails/ham...  The Times\\n\\n\\n\\n \\n\\n December 04, 2002 \\n\\n ...  \n",
      "d:/7.DataScience/DataScience-Python3/emails/ham...  I have to say I was surprised about Jacko dang...  \n",
      "d:/7.DataScience/DataScience-Python3/emails/ham...  Now then I recently read a novel about exactly...  \n",
      "d:/7.DataScience/DataScience-Python3/emails/ham...  What the hell is it with these mini remote con...  \n",
      "d:/7.DataScience/DataScience-Python3/emails/ham...  here, for your enjoyment, is a little somethin...  \n",
      "d:/7.DataScience/DataScience-Python3/emails/ham...  Sean O'Donnell wrote:\\n\\n> Doesnt answer your ...  \n",
      "d:/7.DataScience/DataScience-Python3/emails/ham...  Joe McNally writes:\\n\\n\\n\\n> What the hell is ...  \n",
      "d:/7.DataScience/DataScience-Python3/emails/ham...  http://news.bbc.co.uk/1/hi/world/europe/254182...  \n",
      "d:/7.DataScience/DataScience-Python3/emails/ham...  Hi all.\\n\\nDoes anyone know how to set up dual...  \n",
      "d:/7.DataScience/DataScience-Python3/emails/ham...  Carlos Luna wrote:\\n\\n\\n\\n>Hi all.\\n\\n>Does an...  \n",
      "d:/7.DataScience/DataScience-Python3/emails/ham...  Hi all\\n\\n\\n\\n\\n\\nI have a prob when trying to...  \n",
      "d:/7.DataScience/DataScience-Python3/emails/ham...  Tim Chapman writes:\\n\\n\\n\\n> http://news.bbc.c...  \n",
      "d:/7.DataScience/DataScience-Python3/emails/ham...  > I had the same problem when installing Win o...  \n",
      "d:/7.DataScience/DataScience-Python3/emails/ham...  Man killed 'trying to surf' on Tube train \\n\\n...  \n",
      "d:/7.DataScience/DataScience-Python3/emails/ham...  Hi Gianni,\\n\\n\\n\\nA very good resource for thi...  \n",
      "d:/7.DataScience/DataScience-Python3/emails/ham...  Gianni Ponzi wrote:\\n\\n> I have a prob when tr...  \n",
      "d:/7.DataScience/DataScience-Python3/emails/ham...  Neale Pickett <neale@woozle.org> writes:\\n\\n\\n...  \n",
      "d:/7.DataScience/DataScience-Python3/emails/ham...  \\n\\nHi,\\n\\n\\n\\nI think you need to give us a l...  \n",
      "\n",
      "[3000 rows x 2 columns]\n"
     ]
    }
   ],
   "source": [
    "print(data)"
   ]
  },
  {
   "cell_type": "code",
   "execution_count": 15,
   "metadata": {},
   "outputs": [
    {
     "data": {
      "text/plain": [
       "MultinomialNB(alpha=1.0, class_prior=None, fit_prior=True)"
      ]
     },
     "execution_count": 15,
     "metadata": {},
     "output_type": "execute_result"
    }
   ],
   "source": [
    "vectorizer = CountVectorizer()\n",
    "counts = vectorizer.fit_transform(data['message'].values)\n",
    "\n",
    "classifier = MultinomialNB()\n",
    "targets = data['class'].values\n",
    "classifier.fit(counts, targets)"
   ]
  },
  {
   "cell_type": "code",
   "execution_count": 37,
   "metadata": {},
   "outputs": [
    {
     "data": {
      "text/plain": [
       "array(['ham', 'spam'],\n",
       "      dtype='<U4')"
      ]
     },
     "execution_count": 37,
     "metadata": {},
     "output_type": "execute_result"
    }
   ],
   "source": [
    "examples = [\"Hallo Odia, You're Genius!!!\", \"Free Discount\"]\n",
    "example_counts = vectorizer.transform(examples)\n",
    "predictions = classifier.predict(example_counts)\n",
    "predictions"
   ]
  },
  {
   "cell_type": "code",
   "execution_count": 38,
   "metadata": {},
   "outputs": [
    {
     "name": "stdout",
     "output_type": "stream",
     "text": [
      "Hallo Odia, You're Genius!!! is ham , Free Discount is spam\n"
     ]
    }
   ],
   "source": [
    "print(examples[0],\"is\", predictions[0],\",\",examples[1],\"is\", predictions[1])"
   ]
  }
 ],
 "metadata": {
  "kernelspec": {
   "display_name": "Python 3",
   "language": "python",
   "name": "python3"
  },
  "language_info": {
   "codemirror_mode": {
    "name": "ipython",
    "version": 3
   },
   "file_extension": ".py",
   "mimetype": "text/x-python",
   "name": "python",
   "nbconvert_exporter": "python",
   "pygments_lexer": "ipython3",
   "version": "3.6.5"
  }
 },
 "nbformat": 4,
 "nbformat_minor": 1
}
